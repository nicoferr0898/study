{
 "cells": [
  {
   "cell_type": "markdown",
   "id": "8f83de42",
   "metadata": {},
   "source": [
    "# Data Processing\n",
    "\n",
    "1. Verifica il numero di righe e colonne del dataset\n",
    "2. Verifica la tipologia di ogni variabile\n",
    "3. Verifica il numero di valori mancanti per ogni colonna\n",
    "4. Rimuovi eventualmente le colonne con oltre il 30% di valori mancanti\n",
    "5. Rimuovi eventualmente le righe con oltre il 25% di valori mancanti\n",
    "6. Rimuovi tutte le righe dove PRICE è mancante\n",
    "7. Esegui l'imputazione con valore medio per i restanti valori mancanti quantitativi\n",
    "8. Esegui la codifica di eventuali variabili qualitative\n",
    "9. Esegui l'imputazione con moda per i restanti valori mancanti qualitativi\n",
    "10. Esegui la standardizzazione\n",
    "11. Salva il nuovo dataframe in un tsv chiamato \"housing_clean.tsv\""
   ]
  },
  {
   "cell_type": "code",
   "execution_count": 1,
   "id": "8decd1af",
   "metadata": {},
   "outputs": [],
   "source": [
    "import pandas as pd\n",
    "import numpy as np "
   ]
  },
  {
   "cell_type": "code",
   "execution_count": 2,
   "id": "1fcf3268",
   "metadata": {},
   "outputs": [
    {
     "data": {
      "text/plain": [
       "(506, 14)"
      ]
     },
     "execution_count": 2,
     "metadata": {},
     "output_type": "execute_result"
    }
   ],
   "source": [
    "df = pd.read_csv('https://raw.githubusercontent.com/ProfAI/machine-learning-fondamenti/main/datasets/housing_dirty.csv', \n",
    "                 index_col = 0)\n",
    "#1) \n",
    "df.shape"
   ]
  },
  {
   "cell_type": "code",
   "execution_count": 3,
   "id": "f0c8c1d0",
   "metadata": {},
   "outputs": [
    {
     "name": "stdout",
     "output_type": "stream",
     "text": [
      "<class 'pandas.core.frame.DataFrame'>\n",
      "Float64Index: 506 entries, 0.0 to 505.0\n",
      "Data columns (total 14 columns):\n",
      " #   Column   Non-Null Count  Dtype  \n",
      "---  ------   --------------  -----  \n",
      " 0   CRIM     506 non-null    object \n",
      " 1   ZN       504 non-null    float64\n",
      " 2   INDUS    503 non-null    float64\n",
      " 3   CHAS     506 non-null    object \n",
      " 4   NOX      499 non-null    float64\n",
      " 5   RM       501 non-null    float64\n",
      " 6   AGE      502 non-null    float64\n",
      " 7   DIS      501 non-null    float64\n",
      " 8   RAD      503 non-null    float64\n",
      " 9   TAX      504 non-null    float64\n",
      " 10  PTRATIO  501 non-null    float64\n",
      " 11  B        503 non-null    float64\n",
      " 12  LSTAT    307 non-null    float64\n",
      " 13  PRICE    502 non-null    float64\n",
      "dtypes: float64(12), object(2)\n",
      "memory usage: 59.3+ KB\n"
     ]
    }
   ],
   "source": [
    "#2)\n",
    "df.info()"
   ]
  },
  {
   "cell_type": "code",
   "execution_count": 4,
   "id": "a4d52e0f",
   "metadata": {},
   "outputs": [
    {
     "name": "stdout",
     "output_type": "stream",
     "text": [
      "HIGH         130\n",
      "LOW          127\n",
      "VERY HIGH    127\n",
      "MODERATE     122\n",
      "Name: CRIM, dtype: int64 \n",
      " NO     471\n",
      "YES     35\n",
      "Name: CHAS, dtype: int64\n"
     ]
    }
   ],
   "source": [
    "#Per le var object essendo di tipo qualitativo posso controllare da cosa sono composte tramite \n",
    "print(df['CRIM'].value_counts(),'\\n', df['CHAS'].value_counts())"
   ]
  },
  {
   "cell_type": "code",
   "execution_count": 5,
   "id": "6ecfd9da",
   "metadata": {},
   "outputs": [
    {
     "data": {
      "text/plain": [
       "CRIM         0\n",
       "ZN           2\n",
       "INDUS        3\n",
       "CHAS         0\n",
       "NOX          7\n",
       "RM           5\n",
       "AGE          4\n",
       "DIS          5\n",
       "RAD          3\n",
       "TAX          2\n",
       "PTRATIO      5\n",
       "B            3\n",
       "LSTAT      199\n",
       "PRICE        4\n",
       "dtype: int64"
      ]
     },
     "execution_count": 5,
     "metadata": {},
     "output_type": "execute_result"
    }
   ],
   "source": [
    "#3)\n",
    "df.isna().sum()"
   ]
  },
  {
   "cell_type": "code",
   "execution_count": 6,
   "id": "8567b801",
   "metadata": {},
   "outputs": [
    {
     "data": {
      "text/plain": [
       "CRIM       False\n",
       "ZN         False\n",
       "INDUS      False\n",
       "CHAS       False\n",
       "NOX        False\n",
       "RM         False\n",
       "AGE        False\n",
       "DIS        False\n",
       "RAD        False\n",
       "TAX        False\n",
       "PTRATIO    False\n",
       "B          False\n",
       "LSTAT       True\n",
       "PRICE      False\n",
       "dtype: bool"
      ]
     },
     "execution_count": 6,
     "metadata": {},
     "output_type": "execute_result"
    }
   ],
   "source": [
    "#4) creo valore di thrashold per valori oltre al 30%\n",
    "thresh = df.shape[0]*.7\n",
    "#controllo tutte le colonne che eccedono il 70%\n",
    "df.count()<thresh "
   ]
  },
  {
   "cell_type": "code",
   "execution_count": 7,
   "id": "07e78c95",
   "metadata": {},
   "outputs": [
    {
     "data": {
      "text/plain": [
       "(506, 13)"
      ]
     },
     "execution_count": 7,
     "metadata": {},
     "output_type": "execute_result"
    }
   ],
   "source": [
    "#elimino le colonne che possiedono valori NaN superiori al 30%\n",
    "df = df.dropna(thresh = thresh, axis = 1)\n",
    "df.shape #è presente una colonna in meno "
   ]
  },
  {
   "cell_type": "code",
   "execution_count": 8,
   "id": "f7031bea",
   "metadata": {},
   "outputs": [
    {
     "data": {
      "text/plain": [
       "(503, 13)"
      ]
     },
     "execution_count": 8,
     "metadata": {},
     "output_type": "execute_result"
    }
   ],
   "source": [
    "#5) Creo un valore di threshold per valori oltre il 25%\n",
    "df = df.dropna(thresh = int(df.shape[1]*0.75))\n",
    "df.shape #sono presenti 3 colonne in meno "
   ]
  },
  {
   "cell_type": "code",
   "execution_count": 9,
   "id": "b0a9ce93",
   "metadata": {},
   "outputs": [
    {
     "name": "stdout",
     "output_type": "stream",
     "text": [
      "(499, 13)\n"
     ]
    },
    {
     "data": {
      "text/plain": [
       "CRIM       0\n",
       "ZN         1\n",
       "INDUS      2\n",
       "CHAS       0\n",
       "NOX        6\n",
       "RM         2\n",
       "AGE        1\n",
       "DIS        2\n",
       "RAD        0\n",
       "TAX        0\n",
       "PTRATIO    3\n",
       "B          1\n",
       "PRICE      0\n",
       "dtype: int64"
      ]
     },
     "execution_count": 9,
     "metadata": {},
     "output_type": "execute_result"
    }
   ],
   "source": [
    "#6) cerco le righe in cui la variabile target price NON è presente (so che sono 4 righe)\n",
    "df = df.dropna(subset = 'PRICE')\n",
    "print(df.shape) #infatti sono 4 righe in meno rispetto a prima \n",
    "df.isna().sum() #controllo anche mediante isna"
   ]
  },
  {
   "cell_type": "code",
   "execution_count": 10,
   "id": "0d64ea46",
   "metadata": {},
   "outputs": [
    {
     "data": {
      "text/plain": [
       "0"
      ]
     },
     "execution_count": 10,
     "metadata": {},
     "output_type": "execute_result"
    }
   ],
   "source": [
    "#7\n",
    "cols = df.columns #estraggo tutte le colonne del df\n",
    "cols = cols.drop(['CRIM', 'CHAS']) #estraggo le colonne con variabili di tipo quantitativo\n",
    "to_fill = df[cols].mean().round(2) #calcolo il valore medio da inserire nei dati mancanti \n",
    "df[cols] = df[cols].fillna(to_fill)\n",
    "df.isna().sum().sum() #controllo se sono ancora presenti righe vuote con una somma di tutti i valori NaN"
   ]
  },
  {
   "cell_type": "code",
   "execution_count": 11,
   "id": "499a3679",
   "metadata": {},
   "outputs": [
    {
     "data": {
      "text/plain": [
       "1    127\n",
       "3    127\n",
       "4    125\n",
       "2    120\n",
       "Name: CRIM, dtype: int64"
      ]
     },
     "execution_count": 11,
     "metadata": {},
     "output_type": "execute_result"
    }
   ],
   "source": [
    "#8) siccome CRIM possiede delle variabili di tipo qualitativo ordinato \n",
    "mapping = {'LOW':1, 'MODERATE':2, 'HIGH': 3, 'VERY HIGH':4}\n",
    "df['CRIM'] = df['CRIM'].map(mapping)\n",
    "df['CRIM'].value_counts() #controllo se i valori delle variabili uniche sono cambiate "
   ]
  },
  {
   "cell_type": "code",
   "execution_count": 12,
   "id": "32f875cf",
   "metadata": {},
   "outputs": [
    {
     "data": {
      "text/plain": [
       "0    464\n",
       "1     35\n",
       "Name: CHAS, dtype: int64"
      ]
     },
     "execution_count": 12,
     "metadata": {},
     "output_type": "execute_result"
    }
   ],
   "source": [
    "#CHAS possiede solo si e no\n",
    "map_yn = {'YES':1, 'NO':0}\n",
    "df['CHAS'] = df['CHAS'].map(map_yn)\n",
    "df['CHAS'].value_counts()"
   ]
  },
  {
   "cell_type": "code",
   "execution_count": 14,
   "id": "ebd4e8ca",
   "metadata": {},
   "outputs": [
    {
     "data": {
      "text/plain": [
       "CRIM       0\n",
       "ZN         0\n",
       "INDUS      0\n",
       "CHAS       0\n",
       "NOX        0\n",
       "RM         0\n",
       "AGE        0\n",
       "DIS        0\n",
       "RAD        0\n",
       "TAX        0\n",
       "PTRATIO    0\n",
       "B          0\n",
       "PRICE      0\n",
       "dtype: int64"
      ]
     },
     "execution_count": 14,
     "metadata": {},
     "output_type": "execute_result"
    }
   ],
   "source": [
    "#9 NON è da fare in quanto se si controlla NON esistono valori mancanti qualitativi\n",
    "df.isna().sum()"
   ]
  },
  {
   "cell_type": "code",
   "execution_count": 16,
   "id": "518553cc",
   "metadata": {},
   "outputs": [
    {
     "data": {
      "text/html": [
       "<div>\n",
       "<style scoped>\n",
       "    .dataframe tbody tr th:only-of-type {\n",
       "        vertical-align: middle;\n",
       "    }\n",
       "\n",
       "    .dataframe tbody tr th {\n",
       "        vertical-align: top;\n",
       "    }\n",
       "\n",
       "    .dataframe thead th {\n",
       "        text-align: right;\n",
       "    }\n",
       "</style>\n",
       "<table border=\"1\" class=\"dataframe\">\n",
       "  <thead>\n",
       "    <tr style=\"text-align: right;\">\n",
       "      <th></th>\n",
       "      <th>CRIM</th>\n",
       "      <th>ZN</th>\n",
       "      <th>INDUS</th>\n",
       "      <th>CHAS</th>\n",
       "      <th>NOX</th>\n",
       "      <th>RM</th>\n",
       "      <th>AGE</th>\n",
       "      <th>DIS</th>\n",
       "      <th>RAD</th>\n",
       "      <th>TAX</th>\n",
       "      <th>PTRATIO</th>\n",
       "      <th>B</th>\n",
       "      <th>PRICE</th>\n",
       "    </tr>\n",
       "  </thead>\n",
       "  <tbody>\n",
       "    <tr>\n",
       "      <th>0.0</th>\n",
       "      <td>-1.335848</td>\n",
       "      <td>0.277489</td>\n",
       "      <td>-1.287063</td>\n",
       "      <td>-0.274372</td>\n",
       "      <td>0.334501</td>\n",
       "      <td>0.472344</td>\n",
       "      <td>-0.115693</td>\n",
       "      <td>-0.297511</td>\n",
       "      <td>-0.983103</td>\n",
       "      <td>-0.667445</td>\n",
       "      <td>-1.476726</td>\n",
       "      <td>0.439108</td>\n",
       "      <td>24.0</td>\n",
       "    </tr>\n",
       "    <tr>\n",
       "      <th>1.0</th>\n",
       "      <td>-1.335848</td>\n",
       "      <td>-0.490469</td>\n",
       "      <td>-0.593734</td>\n",
       "      <td>-0.274372</td>\n",
       "      <td>0.025612</td>\n",
       "      <td>0.395632</td>\n",
       "      <td>0.369656</td>\n",
       "      <td>-0.296823</td>\n",
       "      <td>-0.868858</td>\n",
       "      <td>-0.986232</td>\n",
       "      <td>-0.312837</td>\n",
       "      <td>0.439108</td>\n",
       "      <td>21.6</td>\n",
       "    </tr>\n",
       "    <tr>\n",
       "      <th>2.0</th>\n",
       "      <td>-1.335848</td>\n",
       "      <td>-0.490469</td>\n",
       "      <td>-0.593734</td>\n",
       "      <td>-0.274372</td>\n",
       "      <td>0.025612</td>\n",
       "      <td>0.776201</td>\n",
       "      <td>-0.260943</td>\n",
       "      <td>-0.296823</td>\n",
       "      <td>-0.868858</td>\n",
       "      <td>-0.986232</td>\n",
       "      <td>-0.312837</td>\n",
       "      <td>0.394661</td>\n",
       "      <td>34.7</td>\n",
       "    </tr>\n",
       "    <tr>\n",
       "      <th>3.0</th>\n",
       "      <td>-1.335848</td>\n",
       "      <td>-0.490469</td>\n",
       "      <td>-1.305998</td>\n",
       "      <td>-0.274372</td>\n",
       "      <td>-0.023631</td>\n",
       "      <td>0.683051</td>\n",
       "      <td>-0.802975</td>\n",
       "      <td>-0.295965</td>\n",
       "      <td>-0.754613</td>\n",
       "      <td>-1.104301</td>\n",
       "      <td>0.106164</td>\n",
       "      <td>0.414319</td>\n",
       "      <td>33.4</td>\n",
       "    </tr>\n",
       "    <tr>\n",
       "      <th>4.0</th>\n",
       "      <td>-1.335848</td>\n",
       "      <td>-0.490469</td>\n",
       "      <td>-1.305998</td>\n",
       "      <td>-0.274372</td>\n",
       "      <td>-0.023631</td>\n",
       "      <td>0.757272</td>\n",
       "      <td>-0.505389</td>\n",
       "      <td>-0.295965</td>\n",
       "      <td>-0.754613</td>\n",
       "      <td>-1.104301</td>\n",
       "      <td>0.106164</td>\n",
       "      <td>0.439108</td>\n",
       "      <td>36.2</td>\n",
       "    </tr>\n",
       "  </tbody>\n",
       "</table>\n",
       "</div>"
      ],
      "text/plain": [
       "         CRIM        ZN     INDUS      CHAS       NOX        RM       AGE  \\\n",
       "0.0 -1.335848  0.277489 -1.287063 -0.274372  0.334501  0.472344 -0.115693   \n",
       "1.0 -1.335848 -0.490469 -0.593734 -0.274372  0.025612  0.395632  0.369656   \n",
       "2.0 -1.335848 -0.490469 -0.593734 -0.274372  0.025612  0.776201 -0.260943   \n",
       "3.0 -1.335848 -0.490469 -1.305998 -0.274372 -0.023631  0.683051 -0.802975   \n",
       "4.0 -1.335848 -0.490469 -1.305998 -0.274372 -0.023631  0.757272 -0.505389   \n",
       "\n",
       "          DIS       RAD       TAX   PTRATIO         B  PRICE  \n",
       "0.0 -0.297511 -0.983103 -0.667445 -1.476726  0.439108   24.0  \n",
       "1.0 -0.296823 -0.868858 -0.986232 -0.312837  0.439108   21.6  \n",
       "2.0 -0.296823 -0.868858 -0.986232 -0.312837  0.394661   34.7  \n",
       "3.0 -0.295965 -0.754613 -1.104301  0.106164  0.414319   33.4  \n",
       "4.0 -0.295965 -0.754613 -1.104301  0.106164  0.439108   36.2  "
      ]
     },
     "execution_count": 16,
     "metadata": {},
     "output_type": "execute_result"
    }
   ],
   "source": [
    "#10 eseguo standardizzazione, ma prima devo togliere la variabile taget 'PRICE'\n",
    "feautures = df.columns.drop('PRICE') #creo un df con solo le variabili features\n",
    "df[feautures] = (df[feautures] - df[feautures].mean())/df[feautures].std()\n",
    "df.head()"
   ]
  },
  {
   "cell_type": "code",
   "execution_count": 17,
   "id": "3f734c3e",
   "metadata": {},
   "outputs": [
    {
     "data": {
      "text/plain": [
       "CRIM       5.695733e-17\n",
       "ZN        -6.763683e-17\n",
       "INDUS      3.275047e-16\n",
       "CHAS      -1.423933e-17\n",
       "NOX        2.207097e-16\n",
       "RM        -9.255567e-17\n",
       "AGE       -4.271800e-16\n",
       "DIS        7.119667e-18\n",
       "RAD        5.695733e-17\n",
       "TAX        0.000000e+00\n",
       "PTRATIO    5.695733e-17\n",
       "B         -7.119667e-17\n",
       "dtype: float64"
      ]
     },
     "execution_count": 17,
     "metadata": {},
     "output_type": "execute_result"
    }
   ],
   "source": [
    "#controllo se la media è circa 0 \n",
    "df[feautures].mean()"
   ]
  },
  {
   "cell_type": "code",
   "execution_count": 18,
   "id": "2b299be8",
   "metadata": {},
   "outputs": [
    {
     "data": {
      "text/plain": [
       "CRIM       1.0\n",
       "ZN         1.0\n",
       "INDUS      1.0\n",
       "CHAS       1.0\n",
       "NOX        1.0\n",
       "RM         1.0\n",
       "AGE        1.0\n",
       "DIS        1.0\n",
       "RAD        1.0\n",
       "TAX        1.0\n",
       "PTRATIO    1.0\n",
       "B          1.0\n",
       "dtype: float64"
      ]
     },
     "execution_count": 18,
     "metadata": {},
     "output_type": "execute_result"
    }
   ],
   "source": [
    "#controllo se la std è circa 1\n",
    "df[feautures].std()"
   ]
  }
 ],
 "metadata": {
  "kernelspec": {
   "display_name": "Python 3 (ipykernel)",
   "language": "python",
   "name": "python3"
  },
  "language_info": {
   "codemirror_mode": {
    "name": "ipython",
    "version": 3
   },
   "file_extension": ".py",
   "mimetype": "text/x-python",
   "name": "python",
   "nbconvert_exporter": "python",
   "pygments_lexer": "ipython3",
   "version": "3.9.12"
  }
 },
 "nbformat": 4,
 "nbformat_minor": 5
}
